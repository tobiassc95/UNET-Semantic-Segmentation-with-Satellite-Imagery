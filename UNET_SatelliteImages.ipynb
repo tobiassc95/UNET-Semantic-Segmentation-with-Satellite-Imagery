{
 "cells": [
  {
   "cell_type": "code",
   "execution_count": 1,
   "metadata": {},
   "outputs": [],
   "source": [
    "import os # To walk through the directories.\n",
    "import numpy as np # To manipulate arrays.\n",
    "import matplotlib.pyplot as plt"
   ]
  },
  {
   "cell_type": "code",
   "execution_count": 2,
   "metadata": {},
   "outputs": [
    {
     "name": "stdout",
     "output_type": "stream",
     "text": [
      "(3750, 256, 256, 3)\n"
     ]
    }
   ],
   "source": [
    "import cv2 # OpenCV to read images.\n",
    "from patchify import patchify # To divide the images into smaller patches.\n",
    "from PIL import Image # To perform cropping or resizing operations in an image.\n",
    "\n",
    "Images_DSdir = \"Dataset/MassachusettsBuildings/Images\"\n",
    "\n",
    "Images_DS = []\n",
    "PatchSize = 256 # To divide the images into 256 patch size.\n",
    "ImageFiles = os.listdir(Images_DSdir) # Gets a list of all the files in the path.\n",
    "for ImageFile in ImageFiles:\n",
    "    ImageCV = cv2.imread(Images_DSdir+'/'+ImageFile, cv2.IMREAD_COLOR)  # Reads each image as BGR.\n",
    "    ImageCV = cv2.cvtColor(ImageCV, cv2.COLOR_BGR2RGB) # Converts each image as RGB.\n",
    "    SizeX = (ImageCV.shape[1]//PatchSize)*PatchSize # Nearest size divisible by 256 (patch size).\n",
    "    SizeY = (ImageCV.shape[0]//PatchSize)*PatchSize # Nearest size divisible by 256 (patch size).\n",
    "    ImageCV = Image.fromarray(ImageCV) # Converts the image into a PIL image.\n",
    "    ImageCV = ImageCV.crop((0, 0, SizeX, SizeY))  # Crops the image from the top left corner.\n",
    "    ImageCV = np.array(ImageCV) # Converts the image into a numpy array.\n",
    "\n",
    "    ImagePatches = patchify(ImageCV, (PatchSize, PatchSize, 3), step=PatchSize)  # There is no overlap since the step=PatchSize.\n",
    "    for i in range(ImagePatches.shape[0]):\n",
    "        for j in range(ImagePatches.shape[1]):\n",
    "            ImagePatch = ImagePatches[i,j] # Gets each patched image.\n",
    "            \n",
    "            # #Use minmaxscaler instead of just dividing by 255. \n",
    "            # single_patch_img = scaler.fit_transform(single_patch_img.reshape(-1, single_patch_img.shape[-1])).reshape(single_patch_img.shape\n",
    "            # # single_patch_img = (single_patch_img.astype('float32')) / 255.\n",
    "\n",
    "            ImagePatch = ImagePatch[0] # Drop the extra unecessary dimension that patchify adds.\n",
    "            Images_DS.append(ImagePatch) # Adds each patched image into the dataset list.\n",
    "\n",
    "Images_DS = np.array(Images_DS) # Converts the dataset into a numpy array.\n",
    "print(Images_DS.shape)"
   ]
  },
  {
   "cell_type": "code",
   "execution_count": 3,
   "metadata": {},
   "outputs": [
    {
     "name": "stdout",
     "output_type": "stream",
     "text": [
      "(3750, 256, 256, 3)\n"
     ]
    }
   ],
   "source": [
    "Targets_DSdir = \"Dataset/MassachusettsBuildings/Targets\"\n",
    "\n",
    "Targets_DS = []\n",
    "PatchSize = 256 # To divide the images into 256 patch size.\n",
    "TargetFiles = os.listdir(Targets_DSdir) # Gets a list of all the files in the path.\n",
    "for TargetFile in TargetFiles:\n",
    "    TargetCV = cv2.imread(Targets_DSdir+'/'+TargetFile, cv2.IMREAD_COLOR)  # Read each image as BGR.\n",
    "    TargetCV = cv2.cvtColor(TargetCV,cv2.COLOR_BGR2RGB) # Converts each image as RGB.\n",
    "    SizeX = (TargetCV.shape[1]//PatchSize)*PatchSize # Nearest size divisible by 256 (patch size).\n",
    "    SizeY = (TargetCV.shape[0]//PatchSize)*PatchSize # Nearest size divisible by 256 (patch size).\n",
    "    TargetCV = Image.fromarray(TargetCV) # Converts the image into a PIL image.\n",
    "    TargetCV = TargetCV.crop((0, 0, SizeX, SizeY))  # Crops the image from the top left corner.\n",
    "    TargetCV = np.array(TargetCV) # Converts the image into a numpy array.\n",
    "\n",
    "    TargetPatches = patchify(TargetCV, (PatchSize, PatchSize, 3), step=PatchSize)  # Step = 256 for 256 patches means no overlap\n",
    "    for i in range(TargetPatches.shape[0]):\n",
    "        for j in range(TargetPatches.shape[1]):\n",
    "            TargetPatch = TargetPatches[i,j] # TargetPatches[i][j][:][:] # Gets each patched image.\n",
    "            \n",
    "            # #Use minmaxscaler instead of just dividing by 255. \n",
    "            # single_patch_img = scaler.fit_transform(single_patch_img.reshape(-1, single_patch_img.shape[-1])).reshape(single_patch_img.shape\n",
    "            # TargetPatch = TargetPatch.astype(\"float32\")/255.\n",
    "\n",
    "            TargetPatch = TargetPatch[0] # Drop the extra unecessary dimension that patchify adds.                               \n",
    "            Targets_DS.append(TargetPatch) # Adds each patched image into the dataset list.\n",
    "\n",
    "Targets_DS = np.array(Targets_DS) # Converts the dataset into a numpy array.\n",
    "print(Targets_DS.shape)"
   ]
  },
  {
   "cell_type": "code",
   "execution_count": 4,
   "metadata": {},
   "outputs": [
    {
     "name": "stdout",
     "output_type": "stream",
     "text": [
      "(3750, 256, 256, 1)\n"
     ]
    }
   ],
   "source": [
    "TargetLables = (Targets_DS[:,:,:,0]/255).astype(\"int8\") # Converts into one hot encoded vector (just the first channel, no need for all 3 channels). \n",
    "TargetLables = np.array(TargetLables) # Converts the dataset into a numpy array.\n",
    "TargetLables = np.expand_dims(TargetLables, axis=3) # Expands the dimension at axis 3 to match with the dataset.\n",
    "print(TargetLables.shape)"
   ]
  },
  {
   "cell_type": "code",
   "execution_count": 11,
   "metadata": {},
   "outputs": [],
   "source": [
    "import torch\n",
    "from sklearn.model_selection import train_test_split\n",
    "\n",
    "TrainX, TestX, TrainY, TestY = train_test_split(Images_DS, TargetLables, test_size=0.1, random_state=375)\n",
    "\n",
    "Train_DS = (TrainX, TrainY) # Converts to tuple.\n",
    "Test_DS = (TestX, TestY) # Converts to tuple.\n",
    "\n",
    "TrainX = torch.from_numpy(TrainX.astype(np.float32))\n",
    "TrainY = torch.from_numpy(TrainY.astype(np.int8))\n",
    "TestX = torch.from_numpy(TestX.astype(np.float32))\n",
    "TestY = torch.from_numpy(TestY.astype(np.int8))\n",
    "\n",
    "\n",
    "Train_DS = (TrainX, TrainY) # Converts to a tuple with tensors.\n",
    "Test_DS = (TestX, TestY) # Converts to a tuple with tensors.\n",
    "\n",
    "\n",
    "# Dataset = {\"feature\": torch.tensor([Images_DS], dtype=torch.float32), \"label\": torch.tensor([TargetLables], dtype=torch.int)} # Merges the images and the targets together.\n",
    "# Size_DS = Image_DS.shape\n",
    "# Train_DS, Test_DS = data.random_split(Dataset, [0.9, 0.1]) # Splits the dataset into a trainset (90%) and a testset (10%).\n",
    "# Train_DS, Test_DS = data.random_split(Dataset, [0.9, 0.1], generator=torch.Generator().manual_seed(42))\n",
    "# print(len(Train_DS))\n",
    "# print(len(Test_DS))\n",
    "# print(Dataset.shape)"
   ]
  },
  {
   "cell_type": "code",
   "execution_count": 12,
   "metadata": {},
   "outputs": [],
   "source": [
    "from torch.utils.data import DataLoader\n",
    "\n",
    "BatchSize = 256\n",
    "\n",
    "TrainLoad = DataLoader(Train_DS, batch_size=BatchSize, shuffle=True, num_workers=4) # shuffle=True to reshuffle at every epoch.\n",
    "TestLoad = DataLoader(Test_DS, batch_size=BatchSize, shuffle=True, num_workers=4) # shuffle=True to reshuffle at every epoch.\n",
    "\n",
    "\n",
    "# Images_DS = torch.tensor([Images_DS], dtype=torch.float32)\n",
    "# Images_DS = Images_DS.to()"
   ]
  },
  {
   "cell_type": "code",
   "execution_count": 13,
   "metadata": {},
   "outputs": [
    {
     "name": "stdout",
     "output_type": "stream",
     "text": [
      "cuda\n"
     ]
    }
   ],
   "source": [
    "from UNET_Model.unet import Unet\n",
    "\n",
    "Device = torch.device('cuda' if torch.cuda.is_available() else 'cpu')\n",
    "print(Device)"
   ]
  }
 ],
 "metadata": {
  "kernelspec": {
   "display_name": "pytorch",
   "language": "python",
   "name": "python3"
  },
  "language_info": {
   "codemirror_mode": {
    "name": "ipython",
    "version": 3
   },
   "file_extension": ".py",
   "mimetype": "text/x-python",
   "name": "python",
   "nbconvert_exporter": "python",
   "pygments_lexer": "ipython3",
   "version": "3.11.3"
  },
  "orig_nbformat": 4
 },
 "nbformat": 4,
 "nbformat_minor": 2
}
