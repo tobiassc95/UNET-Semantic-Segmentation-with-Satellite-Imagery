{
 "cells": [
  {
   "cell_type": "code",
   "execution_count": 33,
   "metadata": {},
   "outputs": [],
   "source": [
    "import os # To walk through the directories.\n",
    "import cv2 # OpenCV to read images.\n",
    "import numpy as np # To manipulate arrays.\n",
    "import matplotlib.pyplot as plt\n",
    "from patchify import patchify # To divide the images into smaller patches.\n",
    "from PIL import Image # To perform cropping or resizing operations in an image.\n",
    "\n",
    "Images_DSdir = \"Dataset/MassachusettsBuildings/Targets\"\n",
    "Targets_DSdir = \"Dataset/MassachusettsBuildings/Targets\""
   ]
  },
  {
   "cell_type": "code",
   "execution_count": 34,
   "metadata": {},
   "outputs": [
    {
     "name": "stdout",
     "output_type": "stream",
     "text": [
      "(3750, 256, 256, 3)\n"
     ]
    }
   ],
   "source": [
    "Images_DS = []\n",
    "PatchSize = 256 # To divide the images into 256 patch size.\n",
    "ImageFiles = os.listdir(Images_DSdir) # Gets a list of all the files in the path.\n",
    "for ImageFile in ImageFiles:\n",
    "    ImageCV = cv2.imread(Images_DSdir+'/'+ImageFile, cv2.IMREAD_COLOR)  # Reads each image as BGR.\n",
    "    ImageCV = cv2.cvtColor(ImageCV,cv2.COLOR_BGR2RGB) # Converts each image as RGB.\n",
    "    SizeX = (ImageCV.shape[1]//PatchSize)*PatchSize # Nearest size divisible by 256 (patch size).\n",
    "    SizeY = (ImageCV.shape[0]//PatchSize)*PatchSize # Nearest size divisible by 256 (patch size).\n",
    "    ImageCV = Image.fromarray(ImageCV) # Converts the image into a pillow image.\n",
    "    ImageCV = ImageCV.crop((0, 0, SizeX, SizeY))  # Crops the image from the top left corner.\n",
    "    ImageCV = np.array(ImageCV) # Converts the image into a numpy array.\n",
    "\n",
    "    ImagePatches = patchify(ImageCV, (PatchSize, PatchSize, 3), step=PatchSize)  # There is no overlap since the step=PatchSize.\n",
    "    for i in range(ImagePatches.shape[0]):\n",
    "        for j in range(ImagePatches.shape[1]):\n",
    "            ImagePatch = ImagePatches[i,j,:,:] # ImagePatches[i][j][:][:] # Gets each patched image.\n",
    "            \n",
    "            # #Use minmaxscaler instead of just dividing by 255. \n",
    "            # single_patch_img = scaler.fit_transform(single_patch_img.reshape(-1, single_patch_img.shape[-1])).reshape(single_patch_img.shape\n",
    "            # # single_patch_img = (single_patch_img.astype('float32')) / 255.\n",
    "\n",
    "            ImagePatch = ImagePatch[0] # Drop the extra unecessary dimension that patchify adds.\n",
    "            Images_DS.append(ImagePatch) # Adds each patched image into the dataset list.\n",
    "\n",
    "Images_DS = np.array(Images_DS) # Converts the dataset into a numpy array.\n",
    "print(Images_DS.shape)"
   ]
  },
  {
   "cell_type": "code",
   "execution_count": 42,
   "metadata": {},
   "outputs": [
    {
     "name": "stdout",
     "output_type": "stream",
     "text": [
      "(3750, 256, 256, 3)\n"
     ]
    }
   ],
   "source": [
    "Targets_DS = []\n",
    "PatchSize = 256 # To divide the images into 256 patch size.\n",
    "TargetFiles = os.listdir(Targets_DSdir) # Gets a list of all the files in the path.\n",
    "for TargetFile in TargetFiles:\n",
    "    TargetCV = cv2.imread(Targets_DSdir+'/'+TargetFile, cv2.IMREAD_COLOR)  # Read each image as BGR.\n",
    "    TargetCV = cv2.cvtColor(TargetCV,cv2.COLOR_BGR2RGB) # Converts each image as RGB.\n",
    "    SizeX = (TargetCV.shape[1]//PatchSize)*PatchSize # Nearest size divisible by 256 (patch size).\n",
    "    SizeY = (TargetCV.shape[0]//PatchSize)*PatchSize # Nearest size divisible by 256 (patch size).\n",
    "    TargetCV = Image.fromarray(TargetCV) # Converts the image into a pillow image.\n",
    "    TargetCV = TargetCV.crop((0, 0, SizeX, SizeY))  # Crops the image from the top left corner.\n",
    "    TargetCV = np.array(TargetCV) # Converts the image into a numpy array.\n",
    "\n",
    "    TargetPatches = patchify(TargetCV, (PatchSize, PatchSize, 3), step=PatchSize)  # Step = 256 for 256 patches means no overlap\n",
    "    for i in range(TargetPatches.shape[0]):\n",
    "        for j in range(TargetPatches.shape[1]):\n",
    "            TargetPatch = TargetPatches[i,j,:,:] # TargetPatches[i][j][:][:] # Gets each patched image.\n",
    "            \n",
    "            # #Use minmaxscaler instead of just dividing by 255. \n",
    "            # single_patch_img = scaler.fit_transform(single_patch_img.reshape(-1, single_patch_img.shape[-1])).reshape(single_patch_img.shape\n",
    "            # TargetPatch = TargetPatch.astype(\"float32\")/255.\n",
    "\n",
    "            TargetPatch = TargetPatch[0] # Drop the extra unecessary dimension that patchify adds.                               \n",
    "            Targets_DS.append(TargetPatch) # Adds each patched image into the dataset list.\n",
    "\n",
    "Targets_DS = np.array(Targets_DS) # Converts the dataset into a numpy array.\n",
    "print(Targets_DS.shape)"
   ]
  },
  {
   "cell_type": "code",
   "execution_count": 48,
   "metadata": {},
   "outputs": [
    {
     "name": "stdout",
     "output_type": "stream",
     "text": [
      "(3750, 256, 256, 1)\n"
     ]
    }
   ],
   "source": [
    "TargetLables = (Targets_DS[:,:,:,0]/255).astype(\"int\") # Converts into one hot encoded vector (just the first channel, no need for all 3 channels). \n",
    "TargetLables = np.array(TargetLables) # Converts the dataset into a numpy array.\n",
    "TargetLables = np.expand_dims(TargetLables, axis=3) # Expands the dimension at axis 3 to match with the dataset.\n",
    "print(TargetLables.shape)"
   ]
  },
  {
   "cell_type": "code",
   "execution_count": 58,
   "metadata": {},
   "outputs": [
    {
     "name": "stderr",
     "output_type": "stream",
     "text": [
      "c:\\Users\\Tobias Scala\\anaconda3\\envs\\pytorch\\Lib\\site-packages\\torch\\utils\\data\\dataset.py:348: UserWarning: Length of split at index 1 is 0. This might result in an empty dataset.\n",
      "  warnings.warn(f\"Length of split at index {i} is 0. \"\n"
     ]
    },
    {
     "ename": "AttributeError",
     "evalue": "'Subset' object has no attribute 'shape'",
     "output_type": "error",
     "traceback": [
      "\u001b[1;31m---------------------------------------------------------------------------\u001b[0m",
      "\u001b[1;31mAttributeError\u001b[0m                            Traceback (most recent call last)",
      "Cell \u001b[1;32mIn[58], line 7\u001b[0m\n\u001b[0;32m      5\u001b[0m Train_DS, Test_DS \u001b[39m=\u001b[39m data\u001b[39m.\u001b[39mrandom_split(Dataset, [\u001b[39m0.9\u001b[39m, \u001b[39m0.1\u001b[39m])\n\u001b[0;32m      6\u001b[0m \u001b[39m# Train_DS, Test_DS = data.random_split(Dataset, [0.9, 0.1], generator=torch.Generator().manual_seed(42))\u001b[39;00m\n\u001b[1;32m----> 7\u001b[0m \u001b[39mprint\u001b[39m(Train_DS\u001b[39m.\u001b[39;49mshape)\n\u001b[0;32m      8\u001b[0m \u001b[39mprint\u001b[39m(Test_DS\u001b[39m.\u001b[39mshape)\n",
      "\u001b[1;31mAttributeError\u001b[0m: 'Subset' object has no attribute 'shape'"
     ]
    }
   ],
   "source": [
    "import torch\n",
    "import torch.utils.data as data\n",
    "\n",
    "Dataset = {\"feature\": torch.tensor([Images_DS], dtype=torch.float32), \"label\": torch.tensor([TargetLables], dtype=torch.int)} # Merges the images and the targets together.\n",
    "Train_DS, Test_DS = data.random_split(Dataset, [0.9, 0.1]) # Splits the dataset into a trainset (90%) and a testset (10%).\n",
    "# Train_DS, Test_DS = data.random_split(Dataset, [0.9, 0.1], generator=torch.Generator().manual_seed(42))\n",
    "print(len(Train_DS))\n",
    "print(len(Test_DS))\n"
   ]
  }
 ],
 "metadata": {
  "kernelspec": {
   "display_name": "pytorch",
   "language": "python",
   "name": "python3"
  },
  "language_info": {
   "codemirror_mode": {
    "name": "ipython",
    "version": 3
   },
   "file_extension": ".py",
   "mimetype": "text/x-python",
   "name": "python",
   "nbconvert_exporter": "python",
   "pygments_lexer": "ipython3",
   "version": "3.11.3"
  },
  "orig_nbformat": 4
 },
 "nbformat": 4,
 "nbformat_minor": 2
}
