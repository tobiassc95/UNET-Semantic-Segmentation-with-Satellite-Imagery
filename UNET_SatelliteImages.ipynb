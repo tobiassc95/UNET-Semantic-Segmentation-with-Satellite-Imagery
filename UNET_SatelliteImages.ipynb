{
 "cells": [
  {
   "cell_type": "code",
   "execution_count": 33,
   "metadata": {},
   "outputs": [],
   "source": [
    "import os\n",
    "import cv2\n",
    "import numpy as np\n",
    "import matplotlib.pyplot as plt\n",
    "from PIL import Image\n",
    "from patchify import patchify\n",
    "\n",
    "Images_DSdir = \"Dataset/MassachusettsBuildings/Targets\"\n",
    "Targets_DSdir = \"Dataset/MassachusettsBuildings/Targets\""
   ]
  },
  {
   "cell_type": "code",
   "execution_count": 34,
   "metadata": {},
   "outputs": [
    {
     "name": "stdout",
     "output_type": "stream",
     "text": [
      "(3750, 256, 256, 3)\n"
     ]
    }
   ],
   "source": [
    "Images_DS = []\n",
    "ImageFiles = os.listdir(Images_DSdir)\n",
    "PatchSize = 256\n",
    "for ImageFile in ImageFiles:\n",
    "    ImageCV = cv2.imread(Images_DSdir+'/'+ImageFile, cv2.IMREAD_COLOR)  # Read each image as BGR.\n",
    "    ImageCV = cv2.cvtColor(ImageCV,cv2.COLOR_BGR2RGB)\n",
    "    SizeX = (ImageCV.shape[1]//PatchSize)*PatchSize # Nearest size divisible by 256 (patch size).\n",
    "    SizeY = (ImageCV.shape[0]//PatchSize)*PatchSize # Nearest size divisible by 256 (patch size).\n",
    "    ImageCV = Image.fromarray(ImageCV)\n",
    "    ImageCV = ImageCV.crop((0, 0, SizeX, SizeY))  # Crop from top left corner.\n",
    "    ImageCV = np.array(ImageCV) \n",
    "\n",
    "    ImagePatches = patchify(ImageCV, (PatchSize, PatchSize, 3), step=PatchSize)  # Step = 256 for 256 patches means no overlap\n",
    "    for i in range(ImagePatches.shape[0]):\n",
    "        for j in range(ImagePatches.shape[1]):\n",
    "            ImagePatch = ImagePatches[i,j,:,:]\n",
    "            \n",
    "            # #Use minmaxscaler instead of just dividing by 255. \n",
    "            # single_patch_img = scaler.fit_transform(single_patch_img.reshape(-1, single_patch_img.shape[-1])).reshape(single_patch_img.shape\n",
    "            # # single_patch_img = (single_patch_img.astype('float32')) / 255. \n",
    "\n",
    "            ImagePatch = ImagePatch[0] #Drop the extra unecessary dimension that patchify adds.                               \n",
    "            Images_DS.append(ImagePatch)\n",
    "\n",
    "Images_DS = np.array(Images_DS)\n",
    "print(Images_DS.shape)"
   ]
  },
  {
   "cell_type": "code",
   "execution_count": 42,
   "metadata": {},
   "outputs": [
    {
     "name": "stdout",
     "output_type": "stream",
     "text": [
      "(3750, 256, 256, 3)\n"
     ]
    }
   ],
   "source": [
    "Targets_DS = []\n",
    "TargetFiles = os.listdir(Targets_DSdir)\n",
    "PatchSize = 256\n",
    "for TargetFile in TargetFiles:\n",
    "    TargetCV = cv2.imread(Targets_DSdir+'/'+TargetFile, cv2.IMREAD_COLOR)  # Read each image as BGR.\n",
    "    TargetCV = cv2.cvtColor(TargetCV,cv2.COLOR_BGR2RGB)\n",
    "    SizeX = (TargetCV.shape[1]//PatchSize)*PatchSize # Nearest size divisible by 256 (patch size).\n",
    "    SizeY = (TargetCV.shape[0]//PatchSize)*PatchSize # Nearest size divisible by 256 (patch size).\n",
    "    TargetCV = Image.fromarray(TargetCV)\n",
    "    TargetCV = TargetCV.crop((0, 0, SizeX, SizeY))  # Crop from top left corner.\n",
    "    TargetCV = np.array(TargetCV) \n",
    "\n",
    "    TargetPatches = patchify(TargetCV, (PatchSize, PatchSize, 3), step=PatchSize)  # Step = 256 for 256 patches means no overlap\n",
    "    for i in range(TargetPatches.shape[0]):\n",
    "        for j in range(TargetPatches.shape[1]):\n",
    "            TargetPatch = TargetPatches[i,j,:,:] # TargetPatches[i][j][:][:]\n",
    "            \n",
    "            # #Use minmaxscaler instead of just dividing by 255. \n",
    "            # single_patch_img = scaler.fit_transform(single_patch_img.reshape(-1, single_patch_img.shape[-1])).reshape(single_patch_img.shape\n",
    "            TargetPatch = TargetPatch.astype(\"float32\")/255.\n",
    "\n",
    "            TargetPatch = TargetPatch[0] #Drop the extra unecessary dimension that patchify adds.                               \n",
    "            Targets_DS.append(TargetPatch)\n",
    "\n",
    "Targets_DS = np.array(Targets_DS)\n",
    "print(Targets_DS.shape)"
   ]
  },
  {
   "cell_type": "code",
   "execution_count": 48,
   "metadata": {},
   "outputs": [
    {
     "name": "stdout",
     "output_type": "stream",
     "text": [
      "(3750, 256, 256, 1)\n"
     ]
    }
   ],
   "source": [
    "TargetLables = Targets_DS[:,:,:,0].astype(\"int\")\n",
    "TargetLables = np.array(TargetLables)\n",
    "TargetLables = np.expand_dims(TargetLables, axis=3)\n",
    "print(TargetLables.shape)"
   ]
  },
  {
   "cell_type": "code",
   "execution_count": 57,
   "metadata": {},
   "outputs": [],
   "source": [
    "import torch\n",
    "import torch.utils.data as data\n",
    "\n",
    "Dataset = {\"feature\": torch.tensor([Images_DS], dtype=torch.float32), \n",
    "                \"label\": torch.tensor([TargetLables], dtype=torch.int)}\n",
    "Train_DS, Test_DS = data.random_split(Dataset, [0.9, 0.1])"
   ]
  }
 ],
 "metadata": {
  "kernelspec": {
   "display_name": "pytorch",
   "language": "python",
   "name": "python3"
  },
  "language_info": {
   "codemirror_mode": {
    "name": "ipython",
    "version": 3
   },
   "file_extension": ".py",
   "mimetype": "text/x-python",
   "name": "python",
   "nbconvert_exporter": "python",
   "pygments_lexer": "ipython3",
   "version": "3.11.3"
  },
  "orig_nbformat": 4
 },
 "nbformat": 4,
 "nbformat_minor": 2
}
